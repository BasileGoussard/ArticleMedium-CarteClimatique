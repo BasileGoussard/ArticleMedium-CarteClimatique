{
 "cells": [
  {
   "cell_type": "code",
   "execution_count": 2,
   "metadata": {},
   "outputs": [],
   "source": [
    "import matplotlib.pyplot as plt\n",
    "import numpy as np\n",
    "\n",
    "import geopandas as gpd\n",
    "import pandas as pd\n",
    "import xarray \n",
    "import rioxarray\n",
    "\n",
    "import rasterio\n",
    "import fiona\n",
    "import rasterio.mask\n",
    "\n",
    "from geopandas.tools import overlay"
   ]
  },
  {
   "cell_type": "markdown",
   "metadata": {},
   "source": [
    "# DATA"
   ]
  },
  {
   "cell_type": "code",
   "execution_count": 31,
   "metadata": {},
   "outputs": [],
   "source": [
    "#SAVE AS RASTER\n",
    "\n",
    "pays = 'france'\n",
    "resolution   = '9km'\n",
    "xds = xarray.open_dataset('C:\\\\Users\\\\Basile\\\\Pictures\\\\JOBS\\\\INSIGTH\\\\Weather\\\\adaptor.mars.internal-1593413970.6797762-1250-13-e1cc828c-d8ae-4196-9e44-ac1a928b8812.nc')\n",
    "xds.rio.set_crs(\"epsg:4326\")\n",
    "xds[\"tp\"].rio.to_raster(resolution + '{}_tp.tif'.format(pays))\n",
    "xds[\"t2m\"].rio.to_raster(resolution + '{}_t2m.tif'.format(pays))"
   ]
  },
  {
   "cell_type": "code",
   "execution_count": 32,
   "metadata": {},
   "outputs": [],
   "source": [
    "pays = 'france'\n",
    "\n",
    "xds[\"tp\"].rio.to_raster('{}_tp.tif'.format(pays))\n",
    "xds[\"t2m\"].rio.to_raster('{}_t2m.tif'.format(pays))\n",
    "tp  = rasterio.open('{}_tp.tif'.format(pays))\n",
    "t2m = rasterio.open('{}_t2m.tif'.format(pays))"
   ]
  },
  {
   "cell_type": "code",
   "execution_count": 6,
   "metadata": {},
   "outputs": [],
   "source": [
    "france  = 'C:\\\\Users\\\\Basile\\\\Pictures\\\\DATA\\\\france-geojson-master\\\\metropole-version-simplifiee.geojson'\n",
    "\n",
    "with fiona.open(france, \"r\") as shapefile:\n",
    "    shapes = [feature[\"geometry\"] for feature in shapefile]\n",
    "tp, tp_transform = rasterio.mask.mask(tp, shapes, crop=True)\n",
    "t2m, t2m_transform = rasterio.mask.mask(t2m, shapes, crop=True)"
   ]
  },
  {
   "cell_type": "code",
   "execution_count": 7,
   "metadata": {},
   "outputs": [
    {
     "name": "stdout",
     "output_type": "stream",
     "text": [
      "(14504, 936)\n"
     ]
    }
   ],
   "source": [
    "weather = np.zeros((tp.shape[1],tp.shape[2],2 * tp.shape[0]))\n",
    "\n",
    "for j in range(tp.shape[1]):\n",
    "    for k in range(tp.shape[2]):\n",
    "        weather[j,k,:tp.shape[0]] = tp[:,j,k]\n",
    "        weather[j,k,tp.shape[0]:] = t2m[:,j,k]\n",
    "\n",
    "img1d=weather[:,:,:].reshape((weather.shape[0]*weather.shape[1], weather.shape[2]))\n",
    "print(img1d.shape)"
   ]
  },
  {
   "cell_type": "markdown",
   "metadata": {},
   "source": [
    "# PROCESSING"
   ]
  },
  {
   "cell_type": "code",
   "execution_count": 8,
   "metadata": {},
   "outputs": [],
   "source": [
    "from sklearn.cluster import KMeans"
   ]
  },
  {
   "cell_type": "code",
   "execution_count": 14,
   "metadata": {},
   "outputs": [],
   "source": [
    "model = KMeans(n_clusters=7) # Create 8 cluster\n",
    "param = model.fit(img1d) # Fit data with respect to the 8 cluster\n",
    "img_cl = model.labels_ # Retrieve the labels of the classes\n",
    "img_cl = img_cl.reshape((weather[:,:,:].shape[0],weather[:,:,:].shape[1])) # Reshape it to a 3d array"
   ]
  },
  {
   "cell_type": "code",
   "execution_count": 20,
   "metadata": {},
   "outputs": [
    {
     "data": {
      "image/png": "[encoded data removed]",
      "text/plain": [
       "<Figure size 864x864 with 1 Axes>"
      ]
     },
     "metadata": {
      "needs_background": "light"
     },
     "output_type": "display_data"
    }
   ],
   "source": [
    "plt.figure(figsize=[12,12])\n",
    "# cmap = plt.cm.terrain\n",
    "# cmap = plt.cm.brg\n",
    "# cmap = plt.cm.gist_earth\n",
    "cmap = plt.cm.gist_ncar\n",
    "# cmap = plt.cm.gnuplot\n",
    "plt.imshow(img_cl[:, :], cmap = cmap)\n",
    "plt.show()"
   ]
  },
  {
   "cell_type": "markdown",
   "metadata": {},
   "source": [
    "# SAVE"
   ]
  },
  {
   "cell_type": "code",
   "execution_count": 36,
   "metadata": {},
   "outputs": [],
   "source": [
    "dataset = rasterio.open(\n",
    "    'france_climat.tif',\n",
    "    'w',\n",
    "    driver    = 'GTiff',\n",
    "    height    = img_cl.shape[0],\n",
    "    width     = img_cl.shape[1],\n",
    "    count     = 1,\n",
    "    dtype     = img_cl.dtype,\n",
    "    crs       = \"EPSG:4326\",\n",
    "    transform = t2m_transform\n",
    ")\n",
    "\n",
    "dataset.write(img_cl, 1)\n",
    "dataset.close()"
   ]
  },
  {
   "cell_type": "code",
   "execution_count": null,
   "metadata": {},
   "outputs": [],
   "source": []
  }
 ],
 "metadata": {
  "kernelspec": {
   "display_name": "Python [conda env:geo_env]",
   "language": "python",
   "name": "conda-env-geo_env-py"
  },
  "language_info": {
   "codemirror_mode": {
    "name": "ipython",
    "version": 3
   },
   "file_extension": ".py",
   "mimetype": "text/x-python",
   "name": "python",
   "nbconvert_exporter": "python",
   "pygments_lexer": "ipython3",
   "version": "3.6.10"
  }
 },
 "nbformat": 4,
 "nbformat_minor": 4
}
